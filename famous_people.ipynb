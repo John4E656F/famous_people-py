{
 "cells": [
  {
   "cell_type": "code",
   "execution_count": null,
   "metadata": {},
   "outputs": [],
   "source": [
    "!pip install wikipedia"
   ]
  },
  {
   "cell_type": "code",
   "execution_count": null,
   "metadata": {},
   "outputs": [],
   "source": [
    "import wikipedia\n",
    "import sqlite3\n",
    "\n",
    "con = sqlite3.connect(\"famous_people.db\")\n",
    "cur = con.cursor()\n",
    "\n",
    "cur.execute(\"\"\"CREATE TABLE IF NOT EXISTS famous_people\n",
    "            (ID INTEGER PRIMARY KEY AUTOINCREMENT,\n",
    "            name TEXT NOT NULL,\n",
    "            summary TEXT NOT NULL)\"\"\")\n",
    "\n",
    "\n",
    "def search_wikipedia(name):\n",
    "    search_results = wikipedia.search(name)\n",
    "\n",
    "    if not search_results:\n",
    "        print(\"I don’t not know this person.\")\n",
    "        return None\n",
    "\n",
    "    if name not in search_results:\n",
    "        print(f\"Did you mean {search_results[0]}\")\n",
    "        return None\n",
    "\n",
    "    summary = wikipedia.summary(name, sentences=1, auto_suggest=False)\n",
    "    return summary\n",
    "\n",
    "\n",
    "def insert_into_db(name, summary):\n",
    "    cur.execute(\n",
    "        \"INSERT INTO famous_people (name, summary) VALUES(?, ?)\", (name, summary))\n",
    "    con.commit()\n",
    "\n",
    "\n",
    "def main():\n",
    "    name = input(\"Enter a name of a famous person: \")\n",
    "    summary = search_wikipedia(name)\n",
    "\n",
    "    if summary:\n",
    "        insert_into_db(name, summary)\n",
    "        print(f\"Added {name} to the database\")\n",
    "        print(summary)\n",
    "\n",
    "        con.close()\n",
    "\n",
    "\n",
    "main()\n"
   ]
  }
 ],
 "metadata": {
  "kernelspec": {
   "display_name": "Python 3",
   "language": "python",
   "name": "python3"
  },
  "language_info": {
   "codemirror_mode": {
    "name": "ipython",
    "version": 3
   },
   "file_extension": ".py",
   "mimetype": "text/x-python",
   "name": "python",
   "nbconvert_exporter": "python",
   "pygments_lexer": "ipython3",
   "version": "3.11.5"
  },
  "orig_nbformat": 4
 },
 "nbformat": 4,
 "nbformat_minor": 2
}
