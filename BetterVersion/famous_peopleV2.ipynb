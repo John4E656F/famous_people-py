{
 "cells": [
  {
   "cell_type": "code",
   "execution_count": null,
   "metadata": {},
   "outputs": [],
   "source": [
    "!pip install wikipedia"
   ]
  },
  {
   "cell_type": "code",
   "execution_count": 3,
   "metadata": {},
   "outputs": [
    {
     "name": "stdout",
     "output_type": "stream",
     "text": [
      "Added Barack Obama to the database.\n",
      "Name: Barack Obama\n",
      "Summary: Barack Hussein Obama II (  bə-RAHK hoo-SAYN oh-BAH-mə; born August 4, 1961) is an American politician who served as the 44th president of the United States from 2009 to 2017.\n"
     ]
    }
   ],
   "source": [
    "import wikipedia\n",
    "import sqlite3\n",
    "\n",
    "conn = sqlite3.connect('famous_people.db')\n",
    "cursor = conn.cursor()\n",
    "\n",
    "cursor.execute('''CREATE TABLE IF NOT EXISTS famous_people\n",
    "                  (ID INTEGER PRIMARY KEY AUTOINCREMENT,\n",
    "                   name TEXT NOT NULL,\n",
    "                   summary TEXT NOT NULL);''')\n",
    "\n",
    "\n",
    "def search_wikipedia(name):\n",
    "    search_results = wikipedia.search(name)\n",
    "\n",
    "    if not search_results:\n",
    "        print(\"I don't know this person.\")\n",
    "        return None, None\n",
    "\n",
    "    if name in search_results:\n",
    "        summary = wikipedia.summary(name, sentences=1)\n",
    "        return name, summary\n",
    "\n",
    "    page = 0\n",
    "    while True:\n",
    "        print(\"Did you mean one of these?\")\n",
    "        start_idx = page * 5\n",
    "        end_idx = start_idx + 5\n",
    "        for i, option in enumerate(search_results[start_idx:end_idx]):\n",
    "            print(f\"{i+1}. {option}\")\n",
    "\n",
    "        print(\"6. Show next 5 suggestions\")\n",
    "        print(\"7. None of the above\")\n",
    "\n",
    "        choice = int(input(\"Enter the number of your choice: \"))\n",
    "\n",
    "        if choice >= 1 and choice <= 5:\n",
    "            chosen_name = search_results[start_idx + choice - 1]\n",
    "            break\n",
    "        elif choice == 6:\n",
    "            page += 1\n",
    "            if start_idx + 5 >= len(search_results):\n",
    "                print(\"No more suggestions.\")\n",
    "                return None, None\n",
    "            continue\n",
    "        elif choice == 7:\n",
    "            print(\"No suitable option chosen.\")\n",
    "            return None, None\n",
    "\n",
    "    summary = wikipedia.summary(chosen_name, sentences=1)\n",
    "    return chosen_name, summary\n",
    "\n",
    "\n",
    "def insert_into_db(name, summary):\n",
    "    cursor.execute(\n",
    "        \"INSERT INTO famous_people (name, summary) VALUES (?, ?)\", (name, summary))\n",
    "    conn.commit()\n",
    "\n",
    "\n",
    "def main():\n",
    "    name = input(\"Enter the name of a famous person: \")\n",
    "    name, summary = search_wikipedia(name)\n",
    "\n",
    "    if summary:\n",
    "        insert_into_db(name, summary)\n",
    "        print(f\"Added {name} to the database.\")\n",
    "        print(f\"Name: {name}\")\n",
    "        print(f\"Summary: {summary}\")\n",
    "\n",
    "\n",
    "if __name__ == \"__main__\":\n",
    "    main()\n",
    "\n",
    "conn.close()\n"
   ]
  }
 ],
 "metadata": {
  "kernelspec": {
   "display_name": "Python 3",
   "language": "python",
   "name": "python3"
  },
  "language_info": {
   "codemirror_mode": {
    "name": "ipython",
    "version": 3
   },
   "file_extension": ".py",
   "mimetype": "text/x-python",
   "name": "python",
   "nbconvert_exporter": "python",
   "pygments_lexer": "ipython3",
   "version": "3.11.5"
  },
  "orig_nbformat": 4
 },
 "nbformat": 4,
 "nbformat_minor": 2
}
